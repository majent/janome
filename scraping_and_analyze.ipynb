{
 "cells": [
  {
   "cell_type": "code",
   "execution_count": null,
   "id": "legislative-bosnia",
   "metadata": {
    "pycharm": {
     "is_executing": false,
     "name": "#%%\n"
    }
   },
   "outputs": [],
   "source": [
    "import pandas as pd\n",
    "import requests\n",
    "from bs4 import BeautifulSoup\n",
    "from janome.tokenizer import Tokenizer\n",
    "from janome.analyzer import Analyzer\n",
    "from janome.charfilter import *\n",
    "from janome.tokenfilter import *\n",
    "import collections\n",
    "\n",
    "pd.set_option('display.max_rows', None)\n",
    "\n",
    "tokenizer = Tokenizer()\n",
    "char_filters = [UnicodeNormalizeCharFilter(), RegexReplaceCharFilter(u'蛇の目', u'janome')]\n",
    "token_filters = [CompoundNounFilter(), POSStopFilter(['記号','助詞', '助動詞','動詞','連体詞','接続詞']), LowerCaseFilter()]\n",
    "analyzer = Analyzer(char_filters=char_filters, tokenizer=tokenizer, token_filters=token_filters)\n",
    "\n",
    "# scraping\n",
    "r = requests.get(\"URL\")\n",
    "soup = BeautifulSoup(r.content, \"html.parser\")\n",
    "articles = soup.find_all('article')\n",
    "all_paragraph = ''\n",
    "for article in articles:\n",
    "    paragraphs =  article.find_all('p')\n",
    "    for p in paragraphs:\n",
    "        all_paragraph += p.text\n",
    "\n",
    "c = collections.Counter(token.base_form for token in analyzer.analyze(all_paragraph))\n",
    "\n",
    "df = pd.DataFrame(c.most_common(), columns=['word', 'count'])\n",
    "df"
   ]
  }
 ],
 "metadata": {
  "kernelspec": {
   "display_name": "Python 3",
   "language": "python",
   "name": "python3"
  },
  "language_info": {
   "codemirror_mode": {
    "name": "ipython",
    "version": 3
   },
   "file_extension": ".py",
   "mimetype": "text/x-python",
   "name": "python",
   "nbconvert_exporter": "python",
   "pygments_lexer": "ipython3",
   "version": "3.7.4"
  },
  "pycharm": {
   "stem_cell": {
    "cell_type": "raw",
    "metadata": {
     "collapsed": false
    },
    "source": []
   }
  }
 },
 "nbformat": 4,
 "nbformat_minor": 5
}
