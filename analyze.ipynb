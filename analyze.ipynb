{
 "cells": [
  {
   "cell_type": "code",
   "execution_count": null,
   "id": "worth-champion",
   "metadata": {
    "pycharm": {
     "is_executing": false,
     "name": "#%%\n"
    }
   },
   "outputs": [],
   "source": [
    "import pandas as pd\n",
    "from janome.tokenizer import Tokenizer\n",
    "from janome.analyzer import Analyzer\n",
    "from janome.charfilter import *\n",
    "from janome.tokenfilter import *\n",
    "import collections\n",
    "\n",
    "def most_common(column):\n",
    "    target = df[column].to_string(index=False)\n",
    "    c = collections.Counter(token.base_form for token in analyzer.analyze(target))\n",
    "    return c.most_common()\n",
    "\n",
    "pd.set_option('display.max_rows', None)\n",
    "df = pd.read_csv(\"answers.csv\", encoding=\"UTF8\")\n",
    "\n",
    "tokenizer = Tokenizer()\n",
    "char_filters = [UnicodeNormalizeCharFilter(), RegexReplaceCharFilter(u'蛇の目', u'janome')]\n",
    "token_filters = [CompoundNounFilter(), POSStopFilter(['記号','助詞', '助動詞','動詞','連体詞','接続詞']), LowerCaseFilter()]\n",
    "analyzer = Analyzer(char_filters=char_filters, tokenizer=tokenizer, token_filters=token_filters)\n",
    "\n",
    "\n",
    "title = pd.DataFrame(most_common('title'), columns=['word', 'count'])\n",
    "title\n"
   ]
  }
 ],
 "metadata": {
  "kernelspec": {
   "display_name": "Python 3",
   "language": "python",
   "name": "python3"
  },
  "language_info": {
   "codemirror_mode": {
    "name": "ipython",
    "version": 3
   },
   "file_extension": ".py",
   "mimetype": "text/x-python",
   "name": "python",
   "nbconvert_exporter": "python",
   "pygments_lexer": "ipython3",
   "version": "3.7.4"
  },
  "pycharm": {
   "stem_cell": {
    "cell_type": "raw",
    "source": [],
    "metadata": {
     "collapsed": false
    }
   }
  }
 },
 "nbformat": 4,
 "nbformat_minor": 5
}